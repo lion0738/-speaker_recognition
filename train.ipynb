{
 "cells": [
  {
   "cell_type": "code",
   "execution_count": 1,
   "id": "beginning-renewal",
   "metadata": {
    "scrolled": false
   },
   "outputs": [],
   "source": [
    "import dataset\n",
    "import glob\n",
    "import matplotlib.pyplot as plt\n",
    "import metrics\n",
    "import os\n",
    "import time\n",
    "\n",
    "import tensorflow as tf\n",
    "import tensorflow_addons as tfa\n",
    "import tensorflow_datasets as tfds"
   ]
  },
  {
   "cell_type": "code",
   "execution_count": 2,
   "id": "removable-affect",
   "metadata": {
    "scrolled": false
   },
   "outputs": [],
   "source": [
    "# 경고 메시지 제거\n",
    "os.environ['TF_CPP_MIN_LOG_LEVEL'] = '2'"
   ]
  },
  {
   "cell_type": "markdown",
   "id": "confirmed-potter",
   "metadata": {},
   "source": [
    "# 사용할 모델 선택"
   ]
  },
  {
   "cell_type": "code",
   "execution_count": 3,
   "id": "soviet-washer",
   "metadata": {},
   "outputs": [],
   "source": [
    "#from models.cnn import model_name, batch_size, preprocess_dataset, get_model\n",
    "from models.efficientnetb7 import model_name, batch_size, preprocess_dataset, get_model"
   ]
  },
  {
   "cell_type": "markdown",
   "id": "sharp-livestock",
   "metadata": {},
   "source": [
    "# 데이터 불러오기"
   ]
  },
  {
   "cell_type": "code",
   "execution_count": 4,
   "id": "regulated-australian",
   "metadata": {},
   "outputs": [],
   "source": [
    "#train_sql = test_sql = \"SELECT FileLocation, Gender, Age, Dialect FROM json \\\n",
    "#        WHERE Gender != 'NotProvided' and Age != 'NotProvided' and Dialect != 'NotProvided' \\\n",
    "#        and FileLocation not like '%zzmt%' \\\n",
    "#        and cast(FileLength as real) > 6 and cast(FileLength as real) < 8 \\\n",
    "#        ORDER BY random()\"\n",
    "#train_ds, val_ds, test_ds = dataset.load_database(train_sql, test_sql)\n",
    "train_ds, val_ds, test_ds = dataset.load_dataset(\"voice_dialect_ds:1.0.0\")"
   ]
  },
  {
   "cell_type": "code",
   "execution_count": 5,
   "id": "7681d991",
   "metadata": {},
   "outputs": [],
   "source": [
    "train_ds = preprocess_dataset(train_ds)\n",
    "val_ds = preprocess_dataset(val_ds)\n",
    "test_ds = preprocess_dataset(test_ds)\n",
    "\n",
    "train_ds = train_ds.batch(batch_size, drop_remainder=True)\n",
    "val_ds = val_ds.batch(batch_size, drop_remainder=True)\n",
    "test_ds = test_ds.batch(batch_size, drop_remainder=True)\n",
    "\n",
    "train_ds = train_ds.prefetch(tf.data.experimental.AUTOTUNE)\n",
    "val_ds = val_ds.prefetch(tf.data.experimental.AUTOTUNE)\n",
    "test_ds = test_ds.prefetch(tf.data.experimental.AUTOTUNE)"
   ]
  },
  {
   "cell_type": "code",
   "execution_count": 6,
   "id": "607cb21f",
   "metadata": {},
   "outputs": [
    {
     "name": "stdout",
     "output_type": "stream",
     "text": [
      "(16, 498, 32, 3)\n"
     ]
    }
   ],
   "source": [
    "for audio, labels in train_ds.take(1):\n",
    "    print(audio.shape)"
   ]
  },
  {
   "cell_type": "markdown",
   "id": "tight-sending",
   "metadata": {},
   "source": [
    "# 콜백 설정 (Checkpoint, Earlystop)"
   ]
  },
  {
   "cell_type": "code",
   "execution_count": 7,
   "id": "north-geography",
   "metadata": {},
   "outputs": [],
   "source": [
    "callbacks = []\n",
    "\n",
    "CHECKPOINT_DIR_PREFIX = os.path.join(\"checkpoint\", model_name)\n",
    "os.makedirs(CHECKPOINT_DIR_PREFIX, exist_ok=True)\n",
    "\n",
    "latest_checkpoint_path = os.path.join(CHECKPOINT_DIR_PREFIX, \"latest.ckpt\")\n",
    "latest_checkpoint_callback = tf.keras.callbacks.ModelCheckpoint(\n",
    "    filepath=latest_checkpoint_path,\n",
    "    save_weights_only=True,\n",
    "    save_freq=\"epoch\"\n",
    ")\n",
    "callbacks.append(latest_checkpoint_callback)\n",
    "\n",
    "current_time = time.strftime(\"%y%m%d-%H%M%S\")\n",
    "checkpoint_path = os.path.join(CHECKPOINT_DIR_PREFIX, current_time, \"cp-{epoch:04d}.ckpt\")\n",
    "checkpoint_callback = tf.keras.callbacks.ModelCheckpoint(\n",
    "    filepath=checkpoint_path,\n",
    "    verbose=1,\n",
    "    save_weights_only=True,\n",
    "    save_freq=\"epoch\"\n",
    ")\n",
    "callbacks.append(checkpoint_callback)\n",
    "\n",
    "log_path = os.path.join(CHECKPOINT_DIR_PREFIX, f\"{model_name}-{current_time}.csv\")\n",
    "logger_callback = tf.keras.callbacks.CSVLogger(\n",
    "    log_path, separator=',', append=True\n",
    ")\n",
    "callbacks.append(logger_callback)\n",
    "\n",
    "earlystop_callback = tf.keras.callbacks.EarlyStopping(\n",
    "    verbose=1,\n",
    "    patience=10,\n",
    "    restore_best_weights=True\n",
    ")\n",
    "callbacks.append(earlystop_callback)\n",
    "\n",
    "auto_lr_callback = tf.keras.callbacks.ReduceLROnPlateau(\n",
    "    monitor='val_loss',\n",
    "    factor=0.2,\n",
    "    patience=3,\n",
    "    verbose=1,\n",
    "    min_lr=0.0001\n",
    ")\n",
    "callbacks.append(auto_lr_callback)"
   ]
  },
  {
   "cell_type": "markdown",
   "id": "minimal-climate",
   "metadata": {},
   "source": [
    "# 모델 불러오기"
   ]
  },
  {
   "cell_type": "code",
   "execution_count": 8,
   "id": "harmful-cooking",
   "metadata": {},
   "outputs": [],
   "source": [
    "age_metrics = [\n",
    "    'accuracy',\n",
    "    tf.keras.metrics.TopKCategoricalAccuracy(2, name=\"top_2_accuracy\"),\n",
    "    tf.keras.metrics.TopKCategoricalAccuracy(3, name=\"top_3_accuracy\"),\n",
    "    tf.keras.metrics.AUC(),\n",
    "    metrics.PerClassPrecision(len(dataset.age_list)),\n",
    "    metrics.PerClassRecall(len(dataset.age_list)),\n",
    "    tfa.metrics.F1Score(len(dataset.age_list)),\n",
    "    metrics.ConfusionMatrix(len(dataset.age_list)),\n",
    "]\n",
    "\n",
    "dialect_metrics = [\n",
    "    'accuracy',\n",
    "    tf.keras.metrics.AUC(),\n",
    "    metrics.PerClassPrecision(len(dataset.dialect_list)),\n",
    "    metrics.PerClassRecall(len(dataset.dialect_list)),\n",
    "    tfa.metrics.F1Score(len(dataset.dialect_list)),\n",
    "    metrics.ConfusionMatrix(len(dataset.age_list))\n",
    "]\n",
    "\n",
    "gender_metrics = [\n",
    "    'accuracy',\n",
    "    tf.keras.metrics.AUC(),\n",
    "    tf.keras.metrics.Precision(),\n",
    "    tf.keras.metrics.Recall(),\n",
    "    tfa.metrics.F1Score(1, threshold=0.5)\n",
    "]\n",
    "\n",
    "model = get_model()\n",
    "model.compile(optimizer=tf.keras.optimizers.Adam(learning_rate=0.005),\n",
    "          loss={\n",
    "              \"age\": \"categorical_crossentropy\",\n",
    "              \"dialect\": \"categorical_crossentropy\",\n",
    "              \"gender\": \"binary_crossentropy\"\n",
    "          },\n",
    "          metrics={\n",
    "              \"age\": age_metrics,\n",
    "              \"dialect\": dialect_metrics,\n",
    "              \"gender\": gender_metrics,\n",
    "          })"
   ]
  },
  {
   "cell_type": "code",
   "execution_count": 9,
   "id": "4d5da18e",
   "metadata": {},
   "outputs": [],
   "source": [
    "if len(glob.glob(latest_checkpoint_path + \"*\")) > 0:\n",
    "    model.load_weights(latest_checkpoint_path)"
   ]
  },
  {
   "cell_type": "code",
   "execution_count": null,
   "id": "acfc5d07",
   "metadata": {
    "scrolled": true
   },
   "outputs": [],
   "source": [
    "model.summary()"
   ]
  },
  {
   "cell_type": "markdown",
   "id": "voluntary-ottawa",
   "metadata": {},
   "source": [
    "# 훈련 시작"
   ]
  },
  {
   "cell_type": "code",
   "execution_count": 7,
   "id": "backed-appraisal",
   "metadata": {
    "scrolled": false
   },
   "outputs": [
    {
     "ename": "NameError",
     "evalue": "name 'model' is not defined",
     "output_type": "error",
     "traceback": [
      "\u001b[1;31m---------------------------------------------------------------------------\u001b[0m",
      "\u001b[1;31mNameError\u001b[0m                                 Traceback (most recent call last)",
      "\u001b[1;32mC:\\Users\\LEESAN~1\\AppData\\Local\\Temp/ipykernel_17376/1907696426.py\u001b[0m in \u001b[0;36m<module>\u001b[1;34m\u001b[0m\n\u001b[1;32m----> 1\u001b[1;33m history = model.fit(train_ds,\n\u001b[0m\u001b[0;32m      2\u001b[0m           \u001b[0mvalidation_data\u001b[0m\u001b[1;33m=\u001b[0m\u001b[0mval_ds\u001b[0m\u001b[1;33m,\u001b[0m\u001b[1;33m\u001b[0m\u001b[1;33m\u001b[0m\u001b[0m\n\u001b[0;32m      3\u001b[0m           \u001b[0mcallbacks\u001b[0m\u001b[1;33m=\u001b[0m\u001b[0mcallbacks\u001b[0m\u001b[1;33m,\u001b[0m\u001b[1;33m\u001b[0m\u001b[1;33m\u001b[0m\u001b[0m\n\u001b[0;32m      4\u001b[0m           \u001b[0mepochs\u001b[0m\u001b[1;33m=\u001b[0m\u001b[1;36m30\u001b[0m\u001b[1;33m,\u001b[0m\u001b[1;33m\u001b[0m\u001b[1;33m\u001b[0m\u001b[0m\n\u001b[0;32m      5\u001b[0m                    )\n",
      "\u001b[1;31mNameError\u001b[0m: name 'model' is not defined"
     ]
    }
   ],
   "source": [
    "history = model.fit(train_ds,\n",
    "          validation_data=val_ds,\n",
    "          callbacks=callbacks,\n",
    "          epochs=30,\n",
    "                   )"
   ]
  },
  {
   "cell_type": "code",
   "execution_count": 12,
   "id": "56fecb97",
   "metadata": {},
   "outputs": [
    {
     "ename": "NameError",
     "evalue": "name 'history' is not defined",
     "output_type": "error",
     "traceback": [
      "\u001b[1;31m---------------------------------------------------------------------------\u001b[0m",
      "\u001b[1;31mNameError\u001b[0m                                 Traceback (most recent call last)",
      "\u001b[1;32mC:\\Users\\LEESAN~1\\AppData\\Local\\Temp/ipykernel_12724/1243166548.py\u001b[0m in \u001b[0;36m<module>\u001b[1;34m\u001b[0m\n\u001b[1;32m----> 1\u001b[1;33m \u001b[0mmetrics\u001b[0m \u001b[1;33m=\u001b[0m \u001b[0mhistory\u001b[0m\u001b[1;33m.\u001b[0m\u001b[0mhistory\u001b[0m\u001b[1;33m\u001b[0m\u001b[1;33m\u001b[0m\u001b[0m\n\u001b[0m\u001b[0;32m      2\u001b[0m \u001b[0mplt\u001b[0m\u001b[1;33m.\u001b[0m\u001b[0mplot\u001b[0m\u001b[1;33m(\u001b[0m\u001b[0mhistory\u001b[0m\u001b[1;33m.\u001b[0m\u001b[0mepoch\u001b[0m\u001b[1;33m,\u001b[0m \u001b[0mmetrics\u001b[0m\u001b[1;33m[\u001b[0m\u001b[1;34m'loss'\u001b[0m\u001b[1;33m]\u001b[0m\u001b[1;33m,\u001b[0m \u001b[0mmetrics\u001b[0m\u001b[1;33m[\u001b[0m\u001b[1;34m'val_loss'\u001b[0m\u001b[1;33m]\u001b[0m\u001b[1;33m)\u001b[0m\u001b[1;33m\u001b[0m\u001b[1;33m\u001b[0m\u001b[0m\n\u001b[0;32m      3\u001b[0m \u001b[0mplt\u001b[0m\u001b[1;33m.\u001b[0m\u001b[0mlegend\u001b[0m\u001b[1;33m(\u001b[0m\u001b[1;33m[\u001b[0m\u001b[1;34m'loss'\u001b[0m\u001b[1;33m,\u001b[0m \u001b[1;34m'val_loss'\u001b[0m\u001b[1;33m]\u001b[0m\u001b[1;33m)\u001b[0m\u001b[1;33m\u001b[0m\u001b[1;33m\u001b[0m\u001b[0m\n\u001b[0;32m      4\u001b[0m \u001b[0mplt\u001b[0m\u001b[1;33m.\u001b[0m\u001b[0mshow\u001b[0m\u001b[1;33m(\u001b[0m\u001b[1;33m)\u001b[0m\u001b[1;33m\u001b[0m\u001b[1;33m\u001b[0m\u001b[0m\n",
      "\u001b[1;31mNameError\u001b[0m: name 'history' is not defined"
     ]
    }
   ],
   "source": [
    "metrics = history.history\n",
    "plt.plot(history.epoch, metrics['loss'], metrics['val_loss'])\n",
    "plt.legend(['loss', 'val_loss'])\n",
    "plt.show()"
   ]
  },
  {
   "cell_type": "code",
   "execution_count": null,
   "id": "1c146647",
   "metadata": {},
   "outputs": [],
   "source": [
    "model.save_weights(latest_checkpoint_path)"
   ]
  },
  {
   "cell_type": "code",
   "execution_count": 10,
   "id": "2c3ab5f0",
   "metadata": {
    "scrolled": false
   },
   "outputs": [
    {
     "name": "stdout",
     "output_type": "stream",
     "text": [
      "779/779 [==============================] - 249s 299ms/step - loss: 2.4473 - age_loss: 1.5966 - dialect_loss: 0.6704 - gender_loss: 0.1804 - age_accuracy: 0.4132 - age_top_2_accuracy: 0.6783 - age_top_3_accuracy: 0.8383 - age_auc: 0.7879 - age_per_class_precision: 0.4019 - age_per_class_recall: 0.4125 - age_f1_score: 0.4056 - age_confusion_matrix: 346.2222 - dialect_accuracy: 0.8103 - dialect_auc_1: 0.9612 - dialect_per_class_precision: 0.7951 - dialect_per_class_recall: 0.7965 - dialect_f1_score: 0.7909 - dialect_confusion_matrix: 346.2222 - gender_accuracy: 0.9528 - gender_auc_2: 0.9755 - gender_precision: 0.9541 - gender_recall: 0.9595 - gender_f1_score: 0.9568\n"
     ]
    },
    {
     "data": {
      "text/plain": [
       "[2.447340488433838,\n",
       " 1.5965542793273926,\n",
       " 0.6703541874885559,\n",
       " 0.18043281137943268,\n",
       " 0.41318997740745544,\n",
       " 0.6782734394073486,\n",
       " 0.8383343815803528,\n",
       " 0.7878989577293396,\n",
       " array([0.37922558, 0.41363427, 0.35721248, 0.33059126, 0.35137895,\n",
       "        0.57949096], dtype=float32),\n",
       " array([0.47099236, 0.37432262, 0.3171787 , 0.3215    , 0.33692458,\n",
       "        0.6540383 ], dtype=float32),\n",
       " array([0.42015663, 0.3929978 , 0.33600736, 0.32598227, 0.34399998,\n",
       "        0.61451197], dtype=float32),\n",
       " array([[ 617,  388,  152,   58,   44,   51],\n",
       "        [ 500,  898,  565,  202,  141,   93],\n",
       "        [ 249,  600,  733,  381,  216,  132],\n",
       "        [ 154,  156,  370,  643,  432,  245],\n",
       "        [  76,   86,  147,  426,  688,  619],\n",
       "        [  31,   43,   85,  235,  437, 1571]]),\n",
       " 0.8102535009384155,\n",
       " 0.9611518383026123,\n",
       " array([0.96613127, 0.66274023, 0.84806776, 0.75265557, 0.7580175 ,\n",
       "        0.7832536 ], dtype=float32),\n",
       " array([0.98856735, 0.69235754, 0.89597315, 0.82735616, 0.50855744,\n",
       "        0.86613756], dtype=float32),\n",
       " array([0.97722054, 0.67722523, 0.87136245, 0.78824   , 0.6087211 ,\n",
       "        0.82261306], dtype=float32),\n",
       " array([[2767,   11,    0,    5,   16,    0],\n",
       "        [   1, 1069,  109,  350,    6,    9],\n",
       "        [   0,   11, 1602,    7,   95,   73],\n",
       "        [   3,  184,   70, 1984,   89,   68],\n",
       "        [  89,  324,   68,  221, 1040,  303],\n",
       "        [   4,   14,   40,   69,  126, 1637]]),\n",
       " 0.9528241157531738,\n",
       " 0.9755274057388306,\n",
       " 0.9541257619857788,\n",
       " 0.9594694375991821,\n",
       " array([0.95679015], dtype=float32)]"
      ]
     },
     "execution_count": 10,
     "metadata": {},
     "output_type": "execute_result"
    }
   ],
   "source": [
    "model.evaluate(test_ds)"
   ]
  },
  {
   "cell_type": "code",
   "execution_count": null,
   "id": "487b348d",
   "metadata": {},
   "outputs": [],
   "source": []
  }
 ],
 "metadata": {
  "kernelspec": {
   "display_name": "Python 3 (ipykernel)",
   "language": "python",
   "name": "python3"
  },
  "language_info": {
   "codemirror_mode": {
    "name": "ipython",
    "version": 3
   },
   "file_extension": ".py",
   "mimetype": "text/x-python",
   "name": "python",
   "nbconvert_exporter": "python",
   "pygments_lexer": "ipython3",
   "version": "3.9.7"
  }
 },
 "nbformat": 4,
 "nbformat_minor": 5
}
