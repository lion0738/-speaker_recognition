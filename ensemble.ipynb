{
 "cells": [
  {
   "cell_type": "code",
   "execution_count": 1,
   "id": "beginning-renewal",
   "metadata": {
    "scrolled": false
   },
   "outputs": [],
   "source": [
    "import dataset\n",
    "import glob\n",
    "import matplotlib.pyplot as plt\n",
    "import os\n",
    "import time\n",
    "\n",
    "import tensorflow as tf\n",
    "import tensorflow_addons as tfa\n",
    "import tensorflow_datasets as tfds"
   ]
  },
  {
   "cell_type": "code",
   "execution_count": 2,
   "id": "removable-affect",
   "metadata": {
    "scrolled": false
   },
   "outputs": [],
   "source": [
    "os.environ[\"CUDA_DEVICE_ORDER\"] = \"PCI_BUS_ID\"\n",
    "os.environ[\"CUDA_VISIBLE_DEVICES\"] = \"-1\"\n",
    "\n",
    "# 경고 메시지 제거\n",
    "os.environ['TF_CPP_MIN_LOG_LEVEL'] = '2'"
   ]
  },
  {
   "cell_type": "markdown",
   "id": "confirmed-potter",
   "metadata": {},
   "source": [
    "# 사용할 모델 선택"
   ]
  },
  {
   "cell_type": "code",
   "execution_count": 3,
   "id": "soviet-washer",
   "metadata": {},
   "outputs": [],
   "source": [
    "import models.resnet\n",
    "import models.resnet101\n",
    "import models.efficientnet\n",
    "import models.efficientnetb5\n",
    "import models.efficientnetb7\n",
    "\n",
    "model_arr = [models.resnet, models.resnet101, models.efficientnet, models.efficientnetb5, models.efficientnetb7]"
   ]
  },
  {
   "cell_type": "markdown",
   "id": "sharp-livestock",
   "metadata": {},
   "source": [
    "# 데이터 불러오기"
   ]
  },
  {
   "cell_type": "code",
   "execution_count": 6,
   "id": "regulated-australian",
   "metadata": {},
   "outputs": [],
   "source": [
    "#train_sql = test_sql = \"SELECT FileLocation, Gender, Age, Dialect FROM json \\\n",
    "#        WHERE Gender != 'NotProvided' and Age != 'NotProvided' and Dialect != 'NotProvided' \\\n",
    "#        and FileLocation not like '%zzmt%' \\\n",
    "#        and cast(FileLength as real) > 6 and cast(FileLength as real) < 8 \\\n",
    "#        ORDER BY random()\"\n",
    "#train_ds, val_ds, test_ds = dataset.load_database(train_sql, test_sql)\n",
    "_, _2, test_ds = dataset.load_dataset(\"voice_dialect_ds:1.0.0\")"
   ]
  },
  {
   "cell_type": "code",
   "execution_count": 7,
   "id": "7681d991",
   "metadata": {},
   "outputs": [],
   "source": [
    "test_ds = models.resnet.preprocess_dataset(test_ds)\n",
    "test_ds = test_ds.batch(8)\n",
    "test_ds = test_ds.prefetch(tf.data.experimental.AUTOTUNE)"
   ]
  },
  {
   "cell_type": "code",
   "execution_count": 8,
   "id": "607cb21f",
   "metadata": {},
   "outputs": [
    {
     "name": "stdout",
     "output_type": "stream",
     "text": [
      "(8, 498, 32, 3)\n"
     ]
    }
   ],
   "source": [
    "for audio, labels in test_ds.take(1):\n",
    "    print(audio.shape)"
   ]
  },
  {
   "cell_type": "markdown",
   "id": "minimal-climate",
   "metadata": {},
   "source": [
    "# 모델 불러오기"
   ]
  },
  {
   "cell_type": "code",
   "execution_count": 9,
   "id": "8342b23f",
   "metadata": {},
   "outputs": [],
   "source": [
    "def get_model(model, input_layer):\n",
    "    model_layer = model.get_model()\n",
    "    model_layer.compile()\n",
    "    latest_checkpoint_path = os.path.join(\"checkpoint\", model.model_name, \"latest.ckpt\")\n",
    "    model_layer.load_weights(latest_checkpoint_path)\n",
    "\n",
    "    return model_layer(input_layer)"
   ]
  },
  {
   "cell_type": "code",
   "execution_count": 10,
   "id": "harmful-cooking",
   "metadata": {},
   "outputs": [],
   "source": [
    "output_names = [\"age\", \"dialect\", \"gender\"]\n",
    "input_layer = tf.keras.Input(shape=(498, 32, 3))\n",
    "layer_arr = [get_model(model, input_layer) for model in model_arr]\n",
    "\n",
    "#input_reduce_layer = tf.keras.layers.Lambda(lambda inp: inp[:, :, :, 0], output_shape=(498, 32))(input_layer)\n",
    "#lstm_layer_arr = [get_model(models.dvector_single, input_reduce_layer)]\n",
    "#layer_arr.extend(lstm_layer_arr)\n",
    "\n",
    "output_layer = [tf.keras.layers.Average(name=output_names[i])([output[i] for output in layer_arr]) for i in range(len(output_names))]\n",
    "\n",
    "model = tf.keras.Model(inputs=input_layer, outputs=output_layer)\n",
    "#model.compile()\n",
    "\n",
    "model.compile(\n",
    "          metrics={\n",
    "              \"age\": ['accuracy', tf.keras.metrics.TopKCategoricalAccuracy(2), tf.keras.metrics.AUC(), tf.keras.metrics.Precision(), tf.keras.metrics.Recall(), tfa.metrics.F1Score(len(dataset.age_list))],\n",
    "              \"dialect\": ['accuracy', tf.keras.metrics.AUC(), tf.keras.metrics.Precision(), tf.keras.metrics.Recall(), tfa.metrics.F1Score(len(dataset.dialect_list))],\n",
    "              \"gender\": ['accuracy', tf.keras.metrics.AUC(), tf.keras.metrics.Precision(), tf.keras.metrics.Recall(), tfa.metrics.F1Score(1, threshold=0.5)],\n",
    "          })"
   ]
  },
  {
   "cell_type": "code",
   "execution_count": 11,
   "id": "acfc5d07",
   "metadata": {
    "scrolled": true
   },
   "outputs": [
    {
     "name": "stdout",
     "output_type": "stream",
     "text": [
      "Model: \"model_5\"\n",
      "__________________________________________________________________________________________________\n",
      "Layer (type)                    Output Shape         Param #     Connected to                     \n",
      "==================================================================================================\n",
      "input_1 (InputLayer)            [(None, 498, 32, 3)] 0                                            \n",
      "__________________________________________________________________________________________________\n",
      "model (Functional)              [(None, 6), (None, 6 26747789    input_1[0][0]                    \n",
      "__________________________________________________________________________________________________\n",
      "model_1 (Functional)            [(None, 6), (None, 6 45786637    input_1[0][0]                    \n",
      "__________________________________________________________________________________________________\n",
      "model_2 (Functional)            [(None, 6), (None, 6 20440684    input_1[0][0]                    \n",
      "__________________________________________________________________________________________________\n",
      "model_3 (Functional)            [(None, 6), (None, 6 31673604    input_1[0][0]                    \n",
      "__________________________________________________________________________________________________\n",
      "model_4 (Functional)            [(None, 6), (None, 6 68044196    input_1[0][0]                    \n",
      "__________________________________________________________________________________________________\n",
      "age (Average)                   (None, 6)            0           model[0][0]                      \n",
      "                                                                 model_1[0][0]                    \n",
      "                                                                 model_2[0][0]                    \n",
      "                                                                 model_3[0][0]                    \n",
      "                                                                 model_4[0][0]                    \n",
      "__________________________________________________________________________________________________\n",
      "dialect (Average)               (None, 6)            0           model[0][1]                      \n",
      "                                                                 model_1[0][1]                    \n",
      "                                                                 model_2[0][1]                    \n",
      "                                                                 model_3[0][1]                    \n",
      "                                                                 model_4[0][1]                    \n",
      "__________________________________________________________________________________________________\n",
      "gender (Average)                (None, 1)            0           model[0][2]                      \n",
      "                                                                 model_1[0][2]                    \n",
      "                                                                 model_2[0][2]                    \n",
      "                                                                 model_3[0][2]                    \n",
      "                                                                 model_4[0][2]                    \n",
      "==================================================================================================\n",
      "Total params: 192,692,910\n",
      "Trainable params: 191,918,089\n",
      "Non-trainable params: 774,821\n",
      "__________________________________________________________________________________________________\n"
     ]
    }
   ],
   "source": [
    "model.summary()"
   ]
  },
  {
   "cell_type": "code",
   "execution_count": 12,
   "id": "premium-pickup",
   "metadata": {},
   "outputs": [
    {
     "name": "stdout",
     "output_type": "stream",
     "text": [
      "1560/1560 [==============================] - 1884s 1s/step - loss: 0.0000e+00 - age_accuracy: 0.4453 - age_top_k_categorical_accuracy: 0.7072 - age_auc: 0.8141 - age_precision: 0.5956 - age_recall: 0.2278 - age_f1_score: 0.4295 - dialect_accuracy: 0.8289 - dialect_auc_1: 0.9686 - dialect_precision_1: 0.8815 - dialect_recall_1: 0.7872 - dialect_f1_score: 0.8084 - gender_accuracy: 0.9586 - gender_auc_2: 0.9787 - gender_precision_2: 0.9584 - gender_recall_2: 0.9660 - gender_f1_score: 0.9622\n"
     ]
    },
    {
     "data": {
      "text/plain": [
       "[0.0,\n",
       " 0.44526365399360657,\n",
       " 0.7072447538375854,\n",
       " 0.814051628112793,\n",
       " 0.5956421494483948,\n",
       " 0.22784100472927094,\n",
       " array([0.44612354, 0.45926875, 0.3476773 , 0.3511905 , 0.34829932,\n",
       "        0.62452364], dtype=float32),\n",
       " 0.8288988471031189,\n",
       " 0.9686100482940674,\n",
       " 0.8815400004386902,\n",
       " 0.7872255444526672,\n",
       " array([0.98811847, 0.71799564, 0.87288356, 0.8299235 , 0.6089881 ,\n",
       "        0.83266073], dtype=float32),\n",
       " 0.9586471915245056,\n",
       " 0.9786829352378845,\n",
       " 0.9583698511123657,\n",
       " 0.9659894108772278,\n",
       " array([0.9621645], dtype=float32)]"
      ]
     },
     "execution_count": 12,
     "metadata": {},
     "output_type": "execute_result"
    }
   ],
   "source": [
    "model.evaluate(test_ds)"
   ]
  },
  {
   "cell_type": "code",
   "execution_count": null,
   "id": "assured-wholesale",
   "metadata": {},
   "outputs": [],
   "source": [
    "model.save_weights(\"ensemble_model.ckpt\")"
   ]
  },
  {
   "cell_type": "code",
   "execution_count": null,
   "id": "2e595436",
   "metadata": {},
   "outputs": [],
   "source": []
  }
 ],
 "metadata": {
  "kernelspec": {
   "display_name": "Python 3 (ipykernel)",
   "language": "python",
   "name": "python3"
  },
  "language_info": {
   "codemirror_mode": {
    "name": "ipython",
    "version": 3
   },
   "file_extension": ".py",
   "mimetype": "text/x-python",
   "name": "python",
   "nbconvert_exporter": "python",
   "pygments_lexer": "ipython3",
   "version": "3.9.7"
  }
 },
 "nbformat": 4,
 "nbformat_minor": 5
}
