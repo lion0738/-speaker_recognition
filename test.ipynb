{
 "cells": [
  {
   "cell_type": "code",
   "execution_count": 1,
   "id": "beginning-renewal",
   "metadata": {
    "scrolled": false
   },
   "outputs": [],
   "source": [
    "import dataset\n",
    "import glob\n",
    "import matplotlib.pyplot as plt\n",
    "import metrics\n",
    "import os\n",
    "import time\n",
    "\n",
    "import tensorflow as tf\n",
    "import tensorflow_addons as tfa\n",
    "import tensorflow_datasets as tfds"
   ]
  },
  {
   "cell_type": "code",
   "execution_count": 2,
   "id": "harmful-cooking",
   "metadata": {},
   "outputs": [],
   "source": [
    "def test_model(model_class):\n",
    "    _, _2, test_ds = dataset.load_dataset(\"voice_dialect_ds:1.0.0\")\n",
    "    test_ds = model_class.preprocess_dataset(test_ds)\n",
    "    test_ds = test_ds.batch(model_class.batch_size, drop_remainder=True)\n",
    "    test_ds = test_ds.prefetch(tf.data.experimental.AUTOTUNE)\n",
    "    \n",
    "    model = model_class.get_model()\n",
    "    model.compile(optimizer=tf.keras.optimizers.Adam(learning_rate=0.005),\n",
    "              loss={\n",
    "                  \"age\": \"categorical_crossentropy\",\n",
    "                  \"dialect\": \"categorical_crossentropy\",\n",
    "                  \"gender\": \"binary_crossentropy\"\n",
    "              },\n",
    "              metrics={\n",
    "                  \"age\": ['accuracy', metrics.PerClassAccuracy(len(dataset.age_list)), tf.keras.metrics.TopKCategoricalAccuracy(2), tf.keras.metrics.TopKCategoricalAccuracy(3, name=\"top3\"), tf.keras.metrics.AUC(), tf.keras.metrics.Precision(), tf.keras.metrics.Recall(), tfa.metrics.F1Score(len(dataset.age_list))],\n",
    "                  \"dialect\": ['accuracy', metrics.PerClassAccuracy(len(dataset.dialect_list)), tf.keras.metrics.AUC(), tf.keras.metrics.Precision(), tf.keras.metrics.Recall(), tfa.metrics.F1Score(len(dataset.dialect_list))],\n",
    "                  \"gender\": ['accuracy', tf.keras.metrics.AUC(), tf.keras.metrics.Precision(), tf.keras.metrics.Recall(), tfa.metrics.F1Score(1, threshold=0.5)],\n",
    "              })\n",
    "    \n",
    "    latest_checkpoint_path = os.path.join(\"checkpoint\", model_class.model_name, \"latest.ckpt\")\n",
    "    if len(glob.glob(latest_checkpoint_path + \"*\")) > 0:\n",
    "        model.load_weights(latest_checkpoint_path)\n",
    "    return model.evaluate(test_ds)"
   ]
  },
  {
   "cell_type": "code",
   "execution_count": 3,
   "id": "42529cf6",
   "metadata": {
    "scrolled": true
   },
   "outputs": [
    {
     "name": "stdout",
     "output_type": "stream",
     "text": [
      "389/389 [==============================] - 224s 554ms/step - loss: 2.6793 - age_loss: 1.6792 - dialect_loss: 0.8232 - gender_loss: 0.1769 - age_accuracy: 0.3441 - age_per_class_accuracy: 0.3422 - age_top_k_categorical_accuracy: 0.5966 - age_top3: 0.7706 - age_auc: 0.7344 - age_precision: 0.4277 - age_recall: 0.1887 - age_f1_score: 0.3335 - dialect_accuracy: 0.7517 - dialect_per_class_accuracy: 0.7392 - dialect_auc_1: 0.9453 - dialect_precision_1: 0.7900 - dialect_recall_1: 0.7211 - dialect_f1_score: 0.7225 - gender_accuracy: 0.9483 - gender_auc_2: 0.9755 - gender_precision_2: 0.9509 - gender_recall_2: 0.9544 - gender_f1_score: 0.9527\n"
     ]
    }
   ],
   "source": [
    "import models.dvector_single\n",
    "test_model(models.dvector_single)"
   ]
  },
  {
   "cell_type": "code",
   "execution_count": 4,
   "id": "56327cf1",
   "metadata": {
    "scrolled": true
   },
   "outputs": [
    {
     "name": "stdout",
     "output_type": "stream",
     "text": [
      "WARNING:tensorflow:Unresolved object in checkpoint: (root).optimizer.iter\n"
     ]
    },
    {
     "name": "stderr",
     "output_type": "stream",
     "text": [
      "WARNING:tensorflow:Unresolved object in checkpoint: (root).optimizer.iter\n"
     ]
    },
    {
     "name": "stdout",
     "output_type": "stream",
     "text": [
      "WARNING:tensorflow:Unresolved object in checkpoint: (root).optimizer.beta_1\n"
     ]
    },
    {
     "name": "stderr",
     "output_type": "stream",
     "text": [
      "WARNING:tensorflow:Unresolved object in checkpoint: (root).optimizer.beta_1\n"
     ]
    },
    {
     "name": "stdout",
     "output_type": "stream",
     "text": [
      "WARNING:tensorflow:Unresolved object in checkpoint: (root).optimizer.beta_2\n"
     ]
    },
    {
     "name": "stderr",
     "output_type": "stream",
     "text": [
      "WARNING:tensorflow:Unresolved object in checkpoint: (root).optimizer.beta_2\n"
     ]
    },
    {
     "name": "stdout",
     "output_type": "stream",
     "text": [
      "WARNING:tensorflow:Unresolved object in checkpoint: (root).optimizer.decay\n"
     ]
    },
    {
     "name": "stderr",
     "output_type": "stream",
     "text": [
      "WARNING:tensorflow:Unresolved object in checkpoint: (root).optimizer.decay\n"
     ]
    },
    {
     "name": "stdout",
     "output_type": "stream",
     "text": [
      "WARNING:tensorflow:Unresolved object in checkpoint: (root).optimizer.learning_rate\n"
     ]
    },
    {
     "name": "stderr",
     "output_type": "stream",
     "text": [
      "WARNING:tensorflow:Unresolved object in checkpoint: (root).optimizer.learning_rate\n"
     ]
    },
    {
     "name": "stdout",
     "output_type": "stream",
     "text": [
      "WARNING:tensorflow:A checkpoint was restored (e.g. tf.train.Checkpoint.restore or tf.keras.Model.load_weights) but not all checkpointed values were used. See above for specific issues. Use expect_partial() on the load status object, e.g. tf.train.Checkpoint.restore(...).expect_partial(), to silence these warnings, or use assert_consumed() to make the check explicit. See https://www.tensorflow.org/guide/checkpoint#loading_mechanics for details.\n"
     ]
    },
    {
     "name": "stderr",
     "output_type": "stream",
     "text": [
      "WARNING:tensorflow:A checkpoint was restored (e.g. tf.train.Checkpoint.restore or tf.keras.Model.load_weights) but not all checkpointed values were used. See above for specific issues. Use expect_partial() on the load status object, e.g. tf.train.Checkpoint.restore(...).expect_partial(), to silence these warnings, or use assert_consumed() to make the check explicit. See https://www.tensorflow.org/guide/checkpoint#loading_mechanics for details.\n"
     ]
    },
    {
     "name": "stdout",
     "output_type": "stream",
     "text": [
      "779/779 [==============================] - 229s 287ms/step - loss: 2.8748 - age_loss: 1.9145 - dialect_loss: 0.7289 - gender_loss: 0.2314 - age_accuracy: 0.3991 - age_per_class_accuracy: 0.3947 - age_top_k_categorical_accuracy: 0.6426 - age_top3: 0.8035 - age_auc_3: 0.7611 - age_precision_3: 0.4352 - age_recall_3: 0.3393 - age_f1_score: 0.3862 - dialect_accuracy: 0.8121 - dialect_per_class_accuracy: 0.8013 - dialect_auc_4: 0.9578 - dialect_precision_4: 0.8332 - dialect_recall_4: 0.8005 - dialect_f1_score: 0.7926 - gender_accuracy: 0.9444 - gender_auc_5: 0.9721 - gender_precision_5: 0.9473 - gender_recall_5: 0.9508 - gender_f1_score: 0.9490\n"
     ]
    }
   ],
   "source": [
    "import models.resnet\n",
    "test_model(models.resnet)"
   ]
  },
  {
   "cell_type": "code",
   "execution_count": 3,
   "id": "c2c2766f",
   "metadata": {},
   "outputs": [
    {
     "name": "stdout",
     "output_type": "stream",
     "text": [
      "779/779 [==============================] - 232s 289ms/step - loss: 2.8149 - age_loss: 1.8370 - dialect_loss: 0.7619 - gender_loss: 0.2160 - age_accuracy: 0.3927 - age_per_class_accuracy: 0.3912 - age_top_k_categorical_accuracy: 0.6414 - age_top3: 0.7977 - age_auc: 0.7582 - age_precision: 0.4289 - age_recall: 0.3173 - age_f1_score: 0.3862 - dialect_accuracy: 0.7991 - dialect_per_class_accuracy: 0.7840 - dialect_auc_1: 0.9556 - dialect_precision_1: 0.8195 - dialect_recall_1: 0.7843 - dialect_f1_score: 0.7757 - gender_accuracy: 0.9421 - gender_auc_2: 0.9735 - gender_precision_2: 0.9516 - gender_recall_2: 0.9415 - gender_f1_score: 0.9465\n"
     ]
    },
    {
     "data": {
      "text/plain": [
       "[2.814854860305786,\n",
       " 1.8369615077972412,\n",
       " 0.7618625164031982,\n",
       " 0.21603304147720337,\n",
       " 0.39273107051849365,\n",
       " array([0.4218154 , 0.4202838 , 0.26511225, 0.30896345, 0.3651493 ,\n",
       "        0.56559765], dtype=float32),\n",
       " 0.6413671374320984,\n",
       " 0.7977374792098999,\n",
       " 0.7582483291625977,\n",
       " 0.4288657605648041,\n",
       " 0.3173138499259949,\n",
       " array([0.3913659 , 0.42723802, 0.29740858, 0.31738684, 0.34290966,\n",
       "        0.54103583], dtype=float32),\n",
       " 0.7991014122962952,\n",
       " array([0.99249196, 0.6638601 , 0.8972641 , 0.81135225, 0.48776907,\n",
       "        0.8514799 ], dtype=float32),\n",
       " 0.9555674195289612,\n",
       " 0.8195003271102905,\n",
       " 0.7842586636543274,\n",
       " array([0.9857955 , 0.65789473, 0.8132591 , 0.8053024 , 0.5878537 ,\n",
       "        0.80389225], dtype=float32),\n",
       " 0.9420731663703918,\n",
       " 0.9735222458839417,\n",
       " 0.9516009092330933,\n",
       " 0.9415058493614197,\n",
       " array([0.94652647], dtype=float32)]"
      ]
     },
     "execution_count": 3,
     "metadata": {},
     "output_type": "execute_result"
    }
   ],
   "source": [
    "import models.resnet101\n",
    "test_model(models.resnet101)"
   ]
  },
  {
   "cell_type": "code",
   "execution_count": 6,
   "id": "20ab225e",
   "metadata": {},
   "outputs": [
    {
     "name": "stdout",
     "output_type": "stream",
     "text": [
      "WARNING:tensorflow:Unresolved object in checkpoint: (root).optimizer.iter\n"
     ]
    },
    {
     "name": "stderr",
     "output_type": "stream",
     "text": [
      "WARNING:tensorflow:Unresolved object in checkpoint: (root).optimizer.iter\n"
     ]
    },
    {
     "name": "stdout",
     "output_type": "stream",
     "text": [
      "WARNING:tensorflow:Unresolved object in checkpoint: (root).optimizer.beta_1\n"
     ]
    },
    {
     "name": "stderr",
     "output_type": "stream",
     "text": [
      "WARNING:tensorflow:Unresolved object in checkpoint: (root).optimizer.beta_1\n"
     ]
    },
    {
     "name": "stdout",
     "output_type": "stream",
     "text": [
      "WARNING:tensorflow:Unresolved object in checkpoint: (root).optimizer.beta_2\n"
     ]
    },
    {
     "name": "stderr",
     "output_type": "stream",
     "text": [
      "WARNING:tensorflow:Unresolved object in checkpoint: (root).optimizer.beta_2\n"
     ]
    },
    {
     "name": "stdout",
     "output_type": "stream",
     "text": [
      "WARNING:tensorflow:Unresolved object in checkpoint: (root).optimizer.decay\n"
     ]
    },
    {
     "name": "stderr",
     "output_type": "stream",
     "text": [
      "WARNING:tensorflow:Unresolved object in checkpoint: (root).optimizer.decay\n"
     ]
    },
    {
     "name": "stdout",
     "output_type": "stream",
     "text": [
      "WARNING:tensorflow:Unresolved object in checkpoint: (root).optimizer.learning_rate\n"
     ]
    },
    {
     "name": "stderr",
     "output_type": "stream",
     "text": [
      "WARNING:tensorflow:Unresolved object in checkpoint: (root).optimizer.learning_rate\n"
     ]
    },
    {
     "name": "stdout",
     "output_type": "stream",
     "text": [
      "WARNING:tensorflow:A checkpoint was restored (e.g. tf.train.Checkpoint.restore or tf.keras.Model.load_weights) but not all checkpointed values were used. See above for specific issues. Use expect_partial() on the load status object, e.g. tf.train.Checkpoint.restore(...).expect_partial(), to silence these warnings, or use assert_consumed() to make the check explicit. See https://www.tensorflow.org/guide/checkpoint#loading_mechanics for details.\n"
     ]
    },
    {
     "name": "stderr",
     "output_type": "stream",
     "text": [
      "WARNING:tensorflow:A checkpoint was restored (e.g. tf.train.Checkpoint.restore or tf.keras.Model.load_weights) but not all checkpointed values were used. See above for specific issues. Use expect_partial() on the load status object, e.g. tf.train.Checkpoint.restore(...).expect_partial(), to silence these warnings, or use assert_consumed() to make the check explicit. See https://www.tensorflow.org/guide/checkpoint#loading_mechanics for details.\n"
     ]
    },
    {
     "name": "stdout",
     "output_type": "stream",
     "text": [
      "779/779 [==============================] - 229s 288ms/step - loss: 2.5590 - age_loss: 1.5051 - dialect_loss: 0.8749 - gender_loss: 0.1790 - age_accuracy: 0.3797 - age_per_class_accuracy: 0.3851 - age_top_k_categorical_accuracy: 0.6580 - age_top3: 0.8215 - age_auc_9: 0.7739 - age_precision_9: 0.4883 - age_recall_9: 0.1952 - age_f1_score: 0.3699 - dialect_accuracy: 0.7300 - dialect_per_class_accuracy: 0.7154 - dialect_auc_10: 0.9359 - dialect_precision_10: 0.7770 - dialect_recall_10: 0.6914 - dialect_f1_score: 0.6970 - gender_accuracy: 0.9452 - gender_auc_11: 0.9754 - gender_precision_11: 0.9546 - gender_recall_11: 0.9443 - gender_f1_score: 0.9494\n"
     ]
    }
   ],
   "source": [
    "import models.efficientnet\n",
    "test_model(models.efficientnet)"
   ]
  },
  {
   "cell_type": "code",
   "execution_count": 7,
   "id": "5da4baa5",
   "metadata": {},
   "outputs": [
    {
     "name": "stdout",
     "output_type": "stream",
     "text": [
      "WARNING:tensorflow:Unresolved object in checkpoint: (root).optimizer.iter\n"
     ]
    },
    {
     "name": "stderr",
     "output_type": "stream",
     "text": [
      "WARNING:tensorflow:Unresolved object in checkpoint: (root).optimizer.iter\n"
     ]
    },
    {
     "name": "stdout",
     "output_type": "stream",
     "text": [
      "WARNING:tensorflow:Unresolved object in checkpoint: (root).optimizer.beta_1\n"
     ]
    },
    {
     "name": "stderr",
     "output_type": "stream",
     "text": [
      "WARNING:tensorflow:Unresolved object in checkpoint: (root).optimizer.beta_1\n"
     ]
    },
    {
     "name": "stdout",
     "output_type": "stream",
     "text": [
      "WARNING:tensorflow:Unresolved object in checkpoint: (root).optimizer.beta_2\n"
     ]
    },
    {
     "name": "stderr",
     "output_type": "stream",
     "text": [
      "WARNING:tensorflow:Unresolved object in checkpoint: (root).optimizer.beta_2\n"
     ]
    },
    {
     "name": "stdout",
     "output_type": "stream",
     "text": [
      "WARNING:tensorflow:Unresolved object in checkpoint: (root).optimizer.decay\n"
     ]
    },
    {
     "name": "stderr",
     "output_type": "stream",
     "text": [
      "WARNING:tensorflow:Unresolved object in checkpoint: (root).optimizer.decay\n"
     ]
    },
    {
     "name": "stdout",
     "output_type": "stream",
     "text": [
      "WARNING:tensorflow:Unresolved object in checkpoint: (root).optimizer.learning_rate\n"
     ]
    },
    {
     "name": "stderr",
     "output_type": "stream",
     "text": [
      "WARNING:tensorflow:Unresolved object in checkpoint: (root).optimizer.learning_rate\n"
     ]
    },
    {
     "name": "stdout",
     "output_type": "stream",
     "text": [
      "WARNING:tensorflow:A checkpoint was restored (e.g. tf.train.Checkpoint.restore or tf.keras.Model.load_weights) but not all checkpointed values were used. See above for specific issues. Use expect_partial() on the load status object, e.g. tf.train.Checkpoint.restore(...).expect_partial(), to silence these warnings, or use assert_consumed() to make the check explicit. See https://www.tensorflow.org/guide/checkpoint#loading_mechanics for details.\n"
     ]
    },
    {
     "name": "stderr",
     "output_type": "stream",
     "text": [
      "WARNING:tensorflow:A checkpoint was restored (e.g. tf.train.Checkpoint.restore or tf.keras.Model.load_weights) but not all checkpointed values were used. See above for specific issues. Use expect_partial() on the load status object, e.g. tf.train.Checkpoint.restore(...).expect_partial(), to silence these warnings, or use assert_consumed() to make the check explicit. See https://www.tensorflow.org/guide/checkpoint#loading_mechanics for details.\n"
     ]
    },
    {
     "name": "stdout",
     "output_type": "stream",
     "text": [
      "779/779 [==============================] - 243s 305ms/step - loss: 2.4482 - age_loss: 1.5274 - dialect_loss: 0.7200 - gender_loss: 0.2007 - age_accuracy: 0.3921 - age_per_class_accuracy: 0.3955 - age_top_k_categorical_accuracy: 0.6568 - age_top3: 0.8216 - age_auc_12: 0.7754 - age_precision_12: 0.5064 - age_recall_12: 0.2202 - age_f1_score: 0.3683 - dialect_accuracy: 0.7887 - dialect_per_class_accuracy: 0.7769 - dialect_auc_13: 0.9552 - dialect_precision_13: 0.8205 - dialect_recall_13: 0.7620 - dialect_f1_score: 0.7629 - gender_accuracy: 0.9427 - gender_auc_14: 0.9742 - gender_precision_14: 0.9515 - gender_recall_14: 0.9428 - gender_f1_score: 0.9471\n"
     ]
    }
   ],
   "source": [
    "import models.efficientnetb5\n",
    "test_model(models.efficientnetb5)"
   ]
  },
  {
   "cell_type": "code",
   "execution_count": 4,
   "id": "58befee9",
   "metadata": {
    "scrolled": false
   },
   "outputs": [
    {
     "name": "stdout",
     "output_type": "stream",
     "text": [
      "WARNING:tensorflow:Unresolved object in checkpoint: (root).optimizer.iter\n"
     ]
    },
    {
     "name": "stderr",
     "output_type": "stream",
     "text": [
      "WARNING:tensorflow:Unresolved object in checkpoint: (root).optimizer.iter\n"
     ]
    },
    {
     "name": "stdout",
     "output_type": "stream",
     "text": [
      "WARNING:tensorflow:Unresolved object in checkpoint: (root).optimizer.beta_1\n"
     ]
    },
    {
     "name": "stderr",
     "output_type": "stream",
     "text": [
      "WARNING:tensorflow:Unresolved object in checkpoint: (root).optimizer.beta_1\n"
     ]
    },
    {
     "name": "stdout",
     "output_type": "stream",
     "text": [
      "WARNING:tensorflow:Unresolved object in checkpoint: (root).optimizer.beta_2\n"
     ]
    },
    {
     "name": "stderr",
     "output_type": "stream",
     "text": [
      "WARNING:tensorflow:Unresolved object in checkpoint: (root).optimizer.beta_2\n"
     ]
    },
    {
     "name": "stdout",
     "output_type": "stream",
     "text": [
      "WARNING:tensorflow:Unresolved object in checkpoint: (root).optimizer.decay\n"
     ]
    },
    {
     "name": "stderr",
     "output_type": "stream",
     "text": [
      "WARNING:tensorflow:Unresolved object in checkpoint: (root).optimizer.decay\n"
     ]
    },
    {
     "name": "stdout",
     "output_type": "stream",
     "text": [
      "WARNING:tensorflow:Unresolved object in checkpoint: (root).optimizer.learning_rate\n"
     ]
    },
    {
     "name": "stderr",
     "output_type": "stream",
     "text": [
      "WARNING:tensorflow:Unresolved object in checkpoint: (root).optimizer.learning_rate\n"
     ]
    },
    {
     "name": "stdout",
     "output_type": "stream",
     "text": [
      "WARNING:tensorflow:A checkpoint was restored (e.g. tf.train.Checkpoint.restore or tf.keras.Model.load_weights) but not all checkpointed values were used. See above for specific issues. Use expect_partial() on the load status object, e.g. tf.train.Checkpoint.restore(...).expect_partial(), to silence these warnings, or use assert_consumed() to make the check explicit. See https://www.tensorflow.org/guide/checkpoint#loading_mechanics for details.\n"
     ]
    },
    {
     "name": "stderr",
     "output_type": "stream",
     "text": [
      "WARNING:tensorflow:A checkpoint was restored (e.g. tf.train.Checkpoint.restore or tf.keras.Model.load_weights) but not all checkpointed values were used. See above for specific issues. Use expect_partial() on the load status object, e.g. tf.train.Checkpoint.restore(...).expect_partial(), to silence these warnings, or use assert_consumed() to make the check explicit. See https://www.tensorflow.org/guide/checkpoint#loading_mechanics for details.\n"
     ]
    },
    {
     "name": "stdout",
     "output_type": "stream",
     "text": [
      "779/779 [==============================] - 242s 301ms/step - loss: 2.4382 - age_loss: 1.5943 - dialect_loss: 0.6660 - gender_loss: 0.1779 - age_accuracy: 0.4093 - age_per_class_accuracy: 0.4086 - age_top_k_categorical_accuracy: 0.6811 - age_top3: 0.8391 - age_auc_3: 0.7880 - age_precision_3: 0.4877 - age_recall_3: 0.2880 - age_f1_score: 0.4021 - dialect_accuracy: 0.8114 - dialect_per_class_accuracy: 0.7977 - dialect_auc_4: 0.9615 - dialect_precision_4: 0.8377 - dialect_recall_4: 0.7927 - dialect_f1_score: 0.7923 - gender_accuracy: 0.9528 - gender_auc_5: 0.9763 - gender_precision_5: 0.9535 - gender_recall_5: 0.9602 - gender_f1_score: 0.9568\n"
     ]
    },
    {
     "data": {
      "text/plain": [
       "[2.438215732574463,\n",
       " 1.5943219661712646,\n",
       " 0.6660344004631042,\n",
       " 0.1778581440448761,\n",
       " 0.40933889150619507,\n",
       " array([0.470229  , 0.3833959 , 0.31231102, 0.3094642 , 0.3318649 ,\n",
       "        0.64446294], dtype=float32),\n",
       " 0.6810815334320068,\n",
       " 0.8390564918518066,\n",
       " 0.7880060076713562,\n",
       " 0.4877054691314697,\n",
       " 0.2880295217037201,\n",
       " array([0.42134058, 0.40078503, 0.3295351 , 0.31570882, 0.3362261 ,\n",
       "        0.60920894], dtype=float32),\n",
       " 0.8113767504692078,\n",
       " array([0.98711985, 0.68996763, 0.9004474 , 0.8315263 , 0.5107527 ,\n",
       "        0.86627907], dtype=float32),\n",
       " 0.9614785313606262,\n",
       " 0.8377140760421753,\n",
       " 0.792682945728302,\n",
       " array([0.97629154, 0.67489713, 0.87714523, 0.78970295, 0.6103972 ,\n",
       "        0.825277  ], dtype=float32),\n",
       " 0.9528241157531738,\n",
       " 0.9762876629829407,\n",
       " 0.953454315662384,\n",
       " 0.9602004885673523,\n",
       " array([0.95681554], dtype=float32)]"
      ]
     },
     "execution_count": 4,
     "metadata": {},
     "output_type": "execute_result"
    }
   ],
   "source": [
    "import models.efficientnetb7\n",
    "test_model(models.efficientnetb7)"
   ]
  },
  {
   "cell_type": "code",
   "execution_count": null,
   "id": "6d2f26db",
   "metadata": {},
   "outputs": [],
   "source": []
  }
 ],
 "metadata": {
  "kernelspec": {
   "display_name": "Python 3 (ipykernel)",
   "language": "python",
   "name": "python3"
  },
  "language_info": {
   "codemirror_mode": {
    "name": "ipython",
    "version": 3
   },
   "file_extension": ".py",
   "mimetype": "text/x-python",
   "name": "python",
   "nbconvert_exporter": "python",
   "pygments_lexer": "ipython3",
   "version": "3.9.7"
  }
 },
 "nbformat": 4,
 "nbformat_minor": 5
}
